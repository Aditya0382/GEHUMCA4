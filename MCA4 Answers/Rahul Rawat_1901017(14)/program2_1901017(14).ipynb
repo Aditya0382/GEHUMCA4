{
 "cells": [
  {
   "cell_type": "code",
   "execution_count": 2,
   "id": "264a1018",
   "metadata": {},
   "outputs": [
    {
     "name": "stdout",
     "output_type": "stream",
     "text": [
      "Original dictionary:\n",
      "[{'employee_id': 10110, 'name': 'James Parkes', 'Dept': 'IT'}, {'employee_id': 10111, 'name': 'Lisa Hayden', 'Dept': 'Accounts'}, {'employee_id': 10113, 'name': 'Brian Adam', 'Dept': 'HR'}, {'employee_id': 10114, 'name': 'Rine Arthur', 'Dept': 'Accounts'}, {'employee_id': 10115, 'name': 'Jeff Simson', 'Dept': 'HR'}]\n",
      "Check if a specific Key and a value exist in the said dictionary:\n",
      "True\n",
      "False\n",
      "True\n",
      "False\n",
      "False\n",
      "False\n"
     ]
    }
   ],
   "source": [
    "def test(dictt, key, value):\n",
    "    if any(sub[key] == value for sub in dictt):\n",
    "        return True\n",
    "    return False\n",
    "employees = [\n",
    "    {'employee_id': 10110, 'name': 'James Parkes', 'Dept': 'IT'},\n",
    "    {'employee_id': 10111, 'name': 'Lisa Hayden', 'Dept': 'Accounts'},\n",
    "    {'employee_id': 10113, 'name': 'Brian Adam', 'Dept': 'HR'},\n",
    "    {'employee_id': 10114, 'name': 'Rine Arthur', 'Dept': 'Accounts'},\n",
    "    {'employee_id': 10115, 'name': 'Jeff Simson', 'Dept': 'HR'}\n",
    "]\n",
    "print(\"Original dictionary:\")\n",
    "print(employees)\n",
    "print(\"Check if a specific Key and a value exist in the said dictionary:\")\n",
    "print(test(employees, 'employee_id', 10110))\n",
    "print(test(employees, 'name', 'Ankesh'))\n",
    "print(test(employees, 'Dept', 'HR'))\n",
    "print(test(employees, 'Dept', 'CEO'))\n",
    "print(test(employees, 'name', 'Rahul Rawat'))\n",
    "print(test(employees, 'employee_id', 1901017))\n"
   ]
  },
  {
   "cell_type": "code",
   "execution_count": null,
   "id": "d295c5f6",
   "metadata": {},
   "outputs": [],
   "source": []
  }
 ],
 "metadata": {
  "kernelspec": {
   "display_name": "Python 3",
   "language": "python",
   "name": "python3"
  },
  "language_info": {
   "codemirror_mode": {
    "name": "ipython",
    "version": 3
   },
   "file_extension": ".py",
   "mimetype": "text/x-python",
   "name": "python",
   "nbconvert_exporter": "python",
   "pygments_lexer": "ipython3",
   "version": "3.9.5"
  }
 },
 "nbformat": 4,
 "nbformat_minor": 5
}
