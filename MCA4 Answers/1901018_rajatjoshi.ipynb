{
 "cells": [
  {
   "cell_type": "code",
   "execution_count": 1,
   "id": "ff9847cd",
   "metadata": {},
   "outputs": [],
   "source": [
    "text = open(\"bigdata.txt\", \"\")\n",
    "d = dict()\n"
   ]
  },
  {
   "cell_type": "code",
   "execution_count": 2,
   "id": "4b62625e",
   "metadata": {},
   "outputs": [],
   "source": [
    "for line in text:\n",
    "\n",
    "\tline = line.strip()\n",
    "\tline = line.lower()\n",
    "\n",
    "\twords = line.split(\" \")\n"
   ]
  },
  {
   "cell_type": "code",
   "execution_count": 3,
   "id": "c95dbe1d",
   "metadata": {},
   "outputs": [],
   "source": [
    "for word in words:\n",
    "\t\tif word in d:\n",
    "\t\t\td[word] = d[word] + 1\n",
    "\t\telse:\n",
    "\n",
    "\t\t\td[word] = 1\n"
   ]
  },
  {
   "cell_type": "code",
   "execution_count": 5,
   "id": "17429dfb",
   "metadata": {},
   "outputs": [
    {
     "name": "stdout",
     "output_type": "stream",
     "text": [
      " : 1\n"
     ]
    }
   ],
   "source": [
    "for key in list(d.keys()):\n",
    "\tprint(key, \":\", d[key])\n"
   ]
  },
  {
   "cell_type": "code",
   "execution_count": null,
   "id": "fa31da64",
   "metadata": {},
   "outputs": [],
   "source": []
  }
 ],
 "metadata": {
  "kernelspec": {
   "display_name": "Python 3",
   "language": "python",
   "name": "python3"
  },
  "language_info": {
   "codemirror_mode": {
    "name": "ipython",
    "version": 3
   },
   "file_extension": ".py",
   "mimetype": "text/x-python",
   "name": "python",
   "nbconvert_exporter": "python",
   "pygments_lexer": "ipython3",
   "version": "3.8.5"
  }
 },
 "nbformat": 4,
 "nbformat_minor": 5
}
